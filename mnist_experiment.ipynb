{
 "cells": [
  {
   "cell_type": "code",
   "execution_count": 13,
   "metadata": {
    "collapsed": false
   },
   "outputs": [],
   "source": [
    "%matplotlib inline\n",
    "from __future__ import absolute_import\n",
    "from __future__ import division\n",
    "from __future__ import print_function\n",
    "\n",
    "import edward as ed\n",
    "import matplotlib.pyplot as plt\n",
    "import matplotlib.cm as cm\n",
    "from mpl_toolkits.mplot3d import Axes3D\n",
    "import numpy as np\n",
    "import six\n",
    "import tensorflow as tf\n",
    "\n",
    "from edward.models import (\n",
    "    Categorical, Dirichlet, Empirical, InverseGamma,\n",
    "    MultivariateNormalDiag, Normal, ParamMixture, Bernoulli, Multinomial)\n",
    "\n",
    "import utils\n",
    "plt.style.use('ggplot')"
   ]
  },
  {
   "cell_type": "code",
   "execution_count": 27,
   "metadata": {
    "collapsed": false
   },
   "outputs": [],
   "source": [
    "datareader = utils.readmnist(path='MNIST')\n",
    "data = []\n",
    "for i in datareader:\n",
    "    data.append(i)\n",
    "\n",
    "Xtrain = np.zeros([60000, 28*28])\n",
    "Ytrain = np.zeros(60000)\n",
    "\n",
    "for i in range(60000):\n",
    "    Xtrain[i] = data[i][1].flatten()\n",
    "    Ytrain[i] = data[i][0]"
   ]
  },
  {
   "cell_type": "code",
   "execution_count": 29,
   "metadata": {
    "collapsed": false
   },
   "outputs": [],
   "source": [
    "M = 100\n",
    "N = 60000\n",
    "D1 = 100\n",
    "D2 = 28*28\n",
    "\n",
    "# model\n",
    "beta = Dirichlet(tf.ones(M))\n",
    "mu = Normal(tf.zeros(D1), tf.ones(D1), sample_shape=M)\n",
    "sigmasq = InverseGamma(tf.ones(D1), tf.ones(D1), sample_shape=M)\n",
    "z = ParamMixture(beta, {'loc': mu, 'scale_diag': tf.sqrt(sigmasq)},\n",
    "                 MultivariateNormalDiag,\n",
    "                 sample_shape=N)\n",
    "c = z.cat\n",
    "wx = Normal(loc=tf.zeros([D1, D2]), scale=tf.ones([D1, D2]))\n",
    "wy = Normal(loc=tf.zeros([D1, 10]), scale=tf.ones([D1, 10]))\n",
    "x = Normal(loc=tf.matmul(z, wx), scale=tf.ones([N, D2]))\n",
    "y = Categorical(logits=tf.matmul(z, wy))"
   ]
  },
  {
   "cell_type": "code",
   "execution_count": null,
   "metadata": {
    "collapsed": false
   },
   "outputs": [],
   "source": [
    "# inference\n",
    "qz = Normal(loc=tf.Variable(tf.random_normal([N, D1])),\n",
    "            scale=tf.nn.softplus(tf.Variable(tf.random_normal([N, D1]))))\n",
    "qmu = Normal(loc=tf.Variable(tf.random_normal([M, D1])),\n",
    "            scale=tf.nn.softplus(tf.Variable(tf.random_normal([M, D1]))))\n",
    "qwx = Normal(loc=tf.Variable(tf.random_normal([D1, D2])),\n",
    "            scale=tf.nn.softplus(tf.Variable(tf.random_normal([D1, D2]))))\n",
    "qwy = Normal(loc=tf.Variable(tf.random_normal([D1, 1])),\n",
    "            scale=tf.nn.softplus(tf.Variable(tf.random_normal([D1, 1]))))\n",
    "qc = Categorical(logits=tf.Variable(tf.zeros([N,M])))\n",
    "\n",
    "inference = ed.KLqp({mu: qmu, c: qc}, data={x: Xtrain, y: Ytrain})\n",
    "#  , z: qz, wy: qwy, wx: qwx\n",
    "inference.run(n_iter=10000, n_print=100, n_samples=20)"
   ]
  },
  {
   "cell_type": "code",
   "execution_count": null,
   "metadata": {
    "collapsed": true
   },
   "outputs": [],
   "source": []
  }
 ],
 "metadata": {
  "kernelspec": {
   "display_name": "Python 2",
   "language": "python",
   "name": "python2"
  },
  "language_info": {
   "codemirror_mode": {
    "name": "ipython",
    "version": 2
   },
   "file_extension": ".py",
   "mimetype": "text/x-python",
   "name": "python",
   "nbconvert_exporter": "python",
   "pygments_lexer": "ipython2",
   "version": "2.7.6"
  }
 },
 "nbformat": 4,
 "nbformat_minor": 0
}
