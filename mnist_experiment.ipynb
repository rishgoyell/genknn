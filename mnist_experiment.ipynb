{
 "cells": [
  {
   "cell_type": "code",
   "execution_count": 1,
   "metadata": {
    "collapsed": false
   },
   "outputs": [
    {
     "name": "stderr",
     "output_type": "stream",
     "text": [
      "Couldn't import dot_parser, loading of dot files will not be possible.\n"
     ]
    }
   ],
   "source": [
    "%matplotlib inline\n",
    "from __future__ import absolute_import\n",
    "from __future__ import division\n",
    "from __future__ import print_function\n",
    "\n",
    "import edward as ed\n",
    "import matplotlib.pyplot as plt\n",
    "import matplotlib.cm as cm\n",
    "from mpl_toolkits.mplot3d import Axes3D\n",
    "import numpy as np\n",
    "import six\n",
    "import tensorflow as tf\n",
    "\n",
    "from edward.models import (\n",
    "    Categorical, Dirichlet, Empirical, InverseGamma,\n",
    "    MultivariateNormalDiag, Normal, ParamMixture, Bernoulli, Multinomial, PointMass)\n",
    "\n",
    "import utils\n",
    "plt.style.use('ggplot')"
   ]
  },
  {
   "cell_type": "code",
   "execution_count": 2,
   "metadata": {
    "collapsed": false
   },
   "outputs": [],
   "source": [
    "M = 25\n",
    "N = 20000\n",
    "D1 = 50\n",
    "D2 = 28*28\n",
    "inference = 'MAP'\n",
    "\n",
    "datareader = utils.readmnist(path='MNIST')\n",
    "data = []\n",
    "for i in datareader:\n",
    "    data.append(i)\n",
    "\n",
    "Xtrain = np.zeros([N, 28*28])\n",
    "Ytrain = np.zeros(N)\n",
    "\n",
    "for i in range(N):\n",
    "    Xtrain[i] = data[i][1].flatten()\n",
    "    Ytrain[i] = data[i][0]\n",
    "    \n",
    "Xmean = Xtrain.mean(axis=0)\n",
    "Xscale = Xtrain.std(axis=0)\n",
    "np.place(Xscale, Xscale==0, -1)\n",
    "Xtrain = (Xtrain-Xmean)/Xscale\n",
    "np.place(Xscale, Xscale==-1, 0)"
   ]
  },
  {
   "cell_type": "code",
   "execution_count": null,
   "metadata": {
    "collapsed": false
   },
   "outputs": [],
   "source": [
    "# model\n",
    "beta = Dirichlet(tf.ones(M))\n",
    "mu = Normal(tf.zeros(D1), tf.ones(D1), sample_shape=M)\n",
    "sigmasq = InverseGamma(tf.ones(D1), tf.ones(D1), sample_shape=M)\n",
    "z = ParamMixture(beta, {'loc': mu, 'scale_diag': tf.sqrt(sigmasq)},\n",
    "                 MultivariateNormalDiag,\n",
    "                 sample_shape=N)\n",
    "c = z.cat\n",
    "wx = Normal(loc=tf.zeros([D2, D1]), scale=tf.ones([D2, D1]))\n",
    "wy = Normal(loc=tf.zeros([10, D1]), scale=tf.ones([10, D1]))\n",
    "x = Normal(loc=tf.matmul(z, wx, transpose_b=True), scale=tf.ones([N, D2]))\n",
    "y = Categorical(logits=tf.matmul(z, wy, transpose_b=True))"
   ]
  },
  {
   "cell_type": "code",
   "execution_count": null,
   "metadata": {
    "collapsed": false
   },
   "outputs": [
    {
     "name": "stdout",
     "output_type": "stream",
     "text": [
      "\r",
      "   1/1000 [  0%]                                ETA: 18039s | Loss: 2728759552.000"
     ]
    }
   ],
   "source": [
    "# inference\n",
    "if inference == 'VI':\n",
    "    qz = Normal(loc=tf.Variable(tf.random_normal([N, D1])),\n",
    "                scale=tf.nn.softplus(tf.Variable(tf.random_normal([N, D1]))))\n",
    "    qmu = Normal(loc=tf.Variable(tf.random_normal([M, D1])),\n",
    "                scale=tf.nn.softplus(tf.Variable(tf.random_normal([M, D1]))))\n",
    "    qwx = Normal(loc=tf.Variable(tf.random_normal([D2, D1])),\n",
    "                scale=tf.nn.softplus(tf.Variable(tf.random_normal([D2, D1]))))\n",
    "    qwy = Normal(loc=tf.Variable(tf.random_normal([10, D1])),\n",
    "                scale=tf.nn.softplus(tf.Variable(tf.random_normal([10,D1]))))\n",
    "    qc = Categorical(logits=tf.Variable(tf.zeros([N,M])))\n",
    "\n",
    "    # inference = ed.MAP([mu, c, wx, wy, z], data={x: Xtrain, y: Ytrain} )\n",
    "    inference = ed.KLqp({mu: qmu, c: qc, wx: qwx}, data={x: Xtrain, y: Ytrain})\n",
    "    #  , z: qz, wy: qwy, wx: qwx\n",
    "    optimizer = tf.train.AdamOptimizer(learning_rate=1e-3)\n",
    "    inference.run(n_iter=1000, n_print=100, n_samples=20, optimizer=optimizer)\n",
    "elif inference == 'MAP':\n",
    "    qz = PointMass(params=tf.Variable(tf.random_normal([N, D1])))\n",
    "    qmu = PointMass(params=tf.Variable(tf.random_normal([M, D1])))\n",
    "    qwx = PointMass(params=tf.Variable(tf.random_normal([D2, D1])))\n",
    "    qwy = PointMass(params=tf.Variable(tf.random_normal([10, D1])))\n",
    "    qc = PointMass(params=tf.Variable(tf.zeros(N)))\n",
    "    inference = ed.MAP({mu:qmu,wx:qwx, wy:qwy}, data={x: Xtrain, y: Ytrain})\n",
    "    optimizer = tf.train.AdamOptimizer(learning_rate=1e-3)\n",
    "    inference.run(n_iter=1000, n_print=100, optimizer=optimizer)\n",
    "    \n",
    "if inference == 'EM':\n",
    "    qz = Normal(loc=tf.Variable(tf.random_normal([N, D1])),\n",
    "                scale=tf.nn.softplus(tf.Variable(tf.random_normal([N, D1]))))\n",
    "    qc = Categorical(logits=tf.Variable(tf.ones([N,M])))\n",
    "    qmu = PointMass(params=tf.Variable(tf.random_normal([M, D1])))\n",
    "    qwx = PointMass(params=tf.Variable(tf.random_normal([D2, D1])))\n",
    "    qwy = PointMass(params=tf.Variable(tf.random_normal([10, D1])))\n",
    "    qsigmasq = PointMass(params=tf.Variable(tf.ones([M,D1])))\n",
    "    \n",
    "    inference_m = ed.KLqp({z:qz,c:qc}, data={x: data.X, y: data.Y, mu:qmu, wx:qwx, wy:qwy, sigmasq:qsigmasq})\n",
    "    inference_e = ed.MAP({mu:qmu, wx:qwx, wy:qwy, sigmasq:qsigmasq}, data={x: data.X, y: data.Y})\n",
    "#     optimizer = tf.train.AdamOptimizer(learning_rate=1e-3)\n",
    "    inference_e.initialize(optimizer = tf.train.AdamOptimizer(learning_rate=1e-3))\n",
    "    inference_m.initialize()\n",
    "\n",
    "#     sess = ed.get_session()\n",
    "\n",
    "    init = tf.global_variables_initializer()\n",
    "    init.run()\n",
    "    \n",
    "    for i in range(1000):\n",
    "        for j in range(10):\n",
    "            info_dict_m = inference_m.update()\n",
    "        info_dict_e = inference_e.update()\n",
    "        inference_m.print_progress(info_dict_e)"
   ]
  },
  {
   "cell_type": "code",
   "execution_count": null,
   "metadata": {
    "collapsed": false
   },
   "outputs": [],
   "source": [
    "# sess = ed.get_session()\n",
    "\n",
    "# probs = sess.run(qc.probs)\n",
    "# cluster = np.argmax(probs, axis=1)\n",
    "# clusterlabels = np.zeros([M, 10])\n",
    "# for i in range(M):\n",
    "#     temp = Ytrain[np.where(cluster==i)]\n",
    "#     elem, count = np.unique(temp, return_counts=True)\n",
    "#     elem = elem.astype(int)\n",
    "#     for j in range(elem.shape[0]):\n",
    "#         clusterlabels[i,elem[j]] = count[j]\n",
    "        \n",
    "# zproto = sess.run(qmu.mean())\n",
    "# dictionary = sess.run(qwx.mean())\n",
    "# dictionary = np.matmul(zproto,dictionary.transpose())*Xscale+Xmean\n",
    "# # np.place(dictionary, dictionary<0, 0)\n",
    "# for i in range(dictionary.shape[0]):\n",
    "#     print(clusterlabels[i,:].astype(int))\n",
    "#     utils.show(dictionary[i,:].reshape((28,28)))"
   ]
  },
  {
   "cell_type": "code",
   "execution_count": null,
   "metadata": {
    "collapsed": false
   },
   "outputs": [],
   "source": [
    "sess = ed.get_session()\n",
    "\n",
    "if inference in ['VI', 'EM']:\n",
    "    probs = sess.run(qc.probs)\n",
    "    cluster = np.argmax(probs, axis=1)\n",
    "    clusterlabels = np.zeros([M, 10])\n",
    "    for i in range(M):\n",
    "        temp = Ytrain[np.where(cluster==i)]\n",
    "        elem, count = np.unique(temp, return_counts=True)\n",
    "        elem = elem.astype(int)\n",
    "        for j in range(elem.shape[0]):\n",
    "            clusterlabels[i,elem[j]] = count[j]\n",
    "        \n",
    "zproto = sess.run(qmu.params)\n",
    "weightx = sess.run(qwx.params)\n",
    "weighty = sess.run(qwy.params)\n",
    "xcenters = np.matmul(zproto,weightx.transpose())*Xscale+Xmean\n",
    "ycenters = np.matmul(zproto, weighty.transpose())\n",
    "\n",
    "for i in range(xcenters.shape[0]):\n",
    "    if inference in ['VI', 'EM']:\n",
    "        print(clusterlabels[i,:].astype(int))\n",
    "    print(ycenters[i,:])\n",
    "    utils.save(xcenters[i,:].reshape((28,28)), 'MNIST/xprotoMAP/'+str(i)+'.png')"
   ]
  },
  {
   "cell_type": "code",
   "execution_count": null,
   "metadata": {
    "collapsed": true
   },
   "outputs": [],
   "source": []
  }
 ],
 "metadata": {
  "kernelspec": {
   "display_name": "Python 2",
   "language": "python",
   "name": "python2"
  },
  "language_info": {
   "codemirror_mode": {
    "name": "ipython",
    "version": 2
   },
   "file_extension": ".py",
   "mimetype": "text/x-python",
   "name": "python",
   "nbconvert_exporter": "python",
   "pygments_lexer": "ipython2",
   "version": "2.7.6"
  }
 },
 "nbformat": 4,
 "nbformat_minor": 0
}
